{
 "cells": [
  {
   "cell_type": "code",
   "execution_count": 3,
   "metadata": {},
   "outputs": [
    {
     "name": "stdout",
     "output_type": "stream",
     "text": [
      "Enter the sentencethe quick brown fox jumps over the lazy little dog\n",
      "Enter the min length of word3\n",
      "['quick', 'brown', 'jumps', 'over', 'lazy', 'little']\n"
     ]
    }
   ],
   "source": [
    "#1\n",
    "l = input(\"Enter the sentence\").split()\n",
    "length = int(input(\"Enter the min length of word\"))\n",
    "\n",
    "newlist = [i for i in l if len(i)>length]\n",
    "print(newlist)"
   ]
  },
  {
   "cell_type": "code",
   "execution_count": 10,
   "metadata": {},
   "outputs": [
    {
     "name": "stdout",
     "output_type": "stream",
     "text": [
      "Enter the sentencethe quick brown fox jumps over the lazy little dog\n",
      "Enter the position of character3\n",
      "thequick brown fox jumps over the lazy little dog\n"
     ]
    }
   ],
   "source": [
    "#2\n",
    "l = input(\"Enter the sentence\")\n",
    "i = int(input(\"Enter the position of character\"))\n",
    "\n",
    "print(l[:i]+l[i+1:])"
   ]
  },
  {
   "cell_type": "code",
   "execution_count": 12,
   "metadata": {},
   "outputs": [
    {
     "name": "stdout",
     "output_type": "stream",
     "text": [
      "Enter the sentencethe quick brown fox jumps over the lazy little dog\n"
     ]
    }
   ],
   "source": [
    "#3\n",
    "\n",
    "l = input(\"Enter the sentence\").split()\n",
    "joinedList = '@'.join(l) # joining with the character @"
   ]
  },
  {
   "cell_type": "code",
   "execution_count": 13,
   "metadata": {},
   "outputs": [
    {
     "data": {
      "text/plain": [
       "'the@quick@brown@fox@jumps@over@the@lazy@little@dog'"
      ]
     },
     "execution_count": 13,
     "metadata": {},
     "output_type": "execute_result"
    }
   ],
   "source": [
    "joinedList"
   ]
  },
  {
   "cell_type": "code",
   "execution_count": 27,
   "metadata": {},
   "outputs": [
    {
     "name": "stdout",
     "output_type": "stream",
     "text": [
      "Enter the sentence0101python\n"
     ]
    },
    {
     "data": {
      "text/plain": [
       "False"
      ]
     },
     "execution_count": 27,
     "metadata": {},
     "output_type": "execute_result"
    }
   ],
   "source": [
    "#4\n",
    "l = input(\"Enter the sentence\")\n",
    "def isbinarystr(string):\n",
    "    for i in string:\n",
    "        if not i in '01':\n",
    "            return False\n",
    "    return True\n",
    "isbinarystr(l)"
   ]
  },
  {
   "cell_type": "code",
   "execution_count": 28,
   "metadata": {},
   "outputs": [
    {
     "data": {
      "text/plain": [
       "True"
      ]
     },
     "execution_count": 28,
     "metadata": {},
     "output_type": "execute_result"
    }
   ],
   "source": [
    "isbinarystr('0101010101')"
   ]
  },
  {
   "cell_type": "code",
   "execution_count": 48,
   "metadata": {},
   "outputs": [
    {
     "name": "stdout",
     "output_type": "stream",
     "text": [
      "Enter the first sentencethe quick brown fox jumps over the lazy little dog\n",
      "Enter the second sentencethe quick brown fox jumps over the lazy little dog and cat \n"
     ]
    }
   ],
   "source": [
    "#5\n",
    "\n",
    "l1 = input(\"Enter the first sentence\").split()\n",
    "l2 = input(\"Enter the second sentence\").split()\n",
    "countDict = {}\n",
    "l3 = []\n",
    "\n",
    "for i in l1+l2:\n",
    "    if i in countDict:\n",
    "        countDict[i]+=1\n",
    "    else:\n",
    "        countDict[i]=1\n",
    "for k in countDict:\n",
    "    if countDict[k] ==1:\n",
    "        l3.append(k)"
   ]
  },
  {
   "cell_type": "code",
   "execution_count": 49,
   "metadata": {},
   "outputs": [
    {
     "data": {
      "text/plain": [
       "{'the': 4,\n",
       " 'quick': 2,\n",
       " 'brown': 2,\n",
       " 'fox': 2,\n",
       " 'jumps': 2,\n",
       " 'over': 2,\n",
       " 'lazy': 2,\n",
       " 'little': 2,\n",
       " 'dog': 2,\n",
       " 'and': 1,\n",
       " 'cat': 1}"
      ]
     },
     "execution_count": 49,
     "metadata": {},
     "output_type": "execute_result"
    }
   ],
   "source": [
    "countDict"
   ]
  },
  {
   "cell_type": "code",
   "execution_count": 50,
   "metadata": {},
   "outputs": [
    {
     "data": {
      "text/plain": [
       "['and', 'cat']"
      ]
     },
     "execution_count": 50,
     "metadata": {},
     "output_type": "execute_result"
    }
   ],
   "source": [
    "l3"
   ]
  },
  {
   "cell_type": "code",
   "execution_count": 55,
   "metadata": {},
   "outputs": [
    {
     "name": "stdout",
     "output_type": "stream",
     "text": [
      "Enter the sentencethe quick brown fox jumps over the lazy little dog and cat and brown and fox and dog cat\n",
      "['the', 'fox', 'brown', 'cat', 'dog', 'and']\n"
     ]
    }
   ],
   "source": [
    "#6\n",
    "\n",
    "l1 = input(\"Enter the sentence\").split()\n",
    "duplicateDict = {}\n",
    "l3 = []\n",
    "\n",
    "for i in l1:\n",
    "    if i in duplicateDict:\n",
    "        duplicateDict[i]+=1\n",
    "        l3.append(i)\n",
    "    else:\n",
    "        duplicateDict[i]=1\n",
    "\n",
    "print(list(set(l3)))"
   ]
  },
  {
   "cell_type": "code",
   "execution_count": 59,
   "metadata": {},
   "outputs": [
    {
     "name": "stdout",
     "output_type": "stream",
     "text": [
      "Enter the sentenceSeverus&Lily\n",
      "Contains special character\n"
     ]
    }
   ],
   "source": [
    "#7\n",
    "\n",
    "newstr = input(\"Enter the sentence\")\n",
    "if newstr.isalnum()== False:\n",
    "    print(\"Contains special character\")\n",
    "else:\n",
    "    print(\"Doesn't contain any special character\")"
   ]
  },
  {
   "cell_type": "code",
   "execution_count": null,
   "metadata": {},
   "outputs": [],
   "source": []
  }
 ],
 "metadata": {
  "kernelspec": {
   "display_name": "Python 3",
   "language": "python",
   "name": "python3"
  },
  "language_info": {
   "codemirror_mode": {
    "name": "ipython",
    "version": 3
   },
   "file_extension": ".py",
   "mimetype": "text/x-python",
   "name": "python",
   "nbconvert_exporter": "python",
   "pygments_lexer": "ipython3",
   "version": "3.8.3"
  }
 },
 "nbformat": 4,
 "nbformat_minor": 4
}
