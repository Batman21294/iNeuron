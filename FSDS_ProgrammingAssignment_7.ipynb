{
 "cells": [
  {
   "cell_type": "code",
   "execution_count": 3,
   "metadata": {},
   "outputs": [
    {
     "name": "stdout",
     "output_type": "stream",
     "text": [
      "Enter the length of the array :5\n",
      "Enter an element :10\n",
      "Enter an element :20\n",
      "Enter an element :30\n",
      "Enter an element :40\n",
      "Enter an element :50\n",
      "Your array is :\n",
      "10\n",
      "20\n",
      "30\n",
      "40\n",
      "50\n",
      "the sum of the elements in the array = 150\n"
     ]
    }
   ],
   "source": [
    "#1\n",
    "\n",
    "n = int(input(\"Enter the length of the array :\"))\n",
    "l = []\n",
    "s = 0\n",
    "for i in range(n):\n",
    "    x = int(input(\"Enter an element :\"))\n",
    "    l.append(x)\n",
    "    s +=x\n",
    "print(\"Your array is :\")\n",
    "for i in l:\n",
    "    print(i)\n",
    "print(\"the sum of the elements in the array =\",s)"
   ]
  },
  {
   "cell_type": "code",
   "execution_count": 8,
   "metadata": {},
   "outputs": [
    {
     "name": "stdout",
     "output_type": "stream",
     "text": [
      "Your array is :\n",
      "10 20 30 40 50 \n",
      "The largest element of the array is : 50\n"
     ]
    }
   ],
   "source": [
    "# 2\n",
    "\n",
    "# using the array from the above program\n",
    "print(\"Your array is :\")\n",
    "for i in l:\n",
    "    print(i,end=\" \")\n",
    "print(\"\\nThe largest element of the array is :\",max(l))"
   ]
  },
  {
   "cell_type": "code",
   "execution_count": 1,
   "metadata": {},
   "outputs": [
    {
     "data": {
      "text/plain": [
       "[3, 4, 5, 6, 1, 2]"
      ]
     },
     "execution_count": 1,
     "metadata": {},
     "output_type": "execute_result"
    }
   ],
   "source": [
    "#3\n",
    "\n",
    "def arr_rotate(arr,d,n):\n",
    "    return arr[d:n]+arr[0:d]\n",
    "\n",
    "arr_rotate([1,2,3,4,5,6],2,6)"
   ]
  },
  {
   "cell_type": "code",
   "execution_count": 16,
   "metadata": {},
   "outputs": [],
   "source": [
    "#4\n",
    "\n",
    "def arr_split(arr,k):\n",
    "    return arr[k:]+arr[:k]"
   ]
  },
  {
   "cell_type": "code",
   "execution_count": 17,
   "metadata": {},
   "outputs": [
    {
     "data": {
      "text/plain": [
       "[5, 6, 52, 36, 12, 10]"
      ]
     },
     "execution_count": 17,
     "metadata": {},
     "output_type": "execute_result"
    }
   ],
   "source": [
    "arr_split([12,10,5,6,52,36],2)"
   ]
  },
  {
   "cell_type": "code",
   "execution_count": 27,
   "metadata": {},
   "outputs": [
    {
     "data": {
      "text/plain": [
       "True"
      ]
     },
     "execution_count": 27,
     "metadata": {},
     "output_type": "execute_result"
    }
   ],
   "source": [
    "#5\n",
    "\n",
    "def monotonic_arr(ar):\n",
    "    return (all(ar[i]<ar[i+1] for i in range(len(ar)-1)) or all(ar[i]>ar[i+1] for i in range(len(ar)-1)))\n",
    "monotonic_arr([1,2,3,4,5])"
   ]
  },
  {
   "cell_type": "code",
   "execution_count": null,
   "metadata": {},
   "outputs": [],
   "source": []
  }
 ],
 "metadata": {
  "kernelspec": {
   "display_name": "Python 3",
   "language": "python",
   "name": "python3"
  },
  "language_info": {
   "codemirror_mode": {
    "name": "ipython",
    "version": 3
   },
   "file_extension": ".py",
   "mimetype": "text/x-python",
   "name": "python",
   "nbconvert_exporter": "python",
   "pygments_lexer": "ipython3",
   "version": "3.8.3"
  }
 },
 "nbformat": 4,
 "nbformat_minor": 4
}
