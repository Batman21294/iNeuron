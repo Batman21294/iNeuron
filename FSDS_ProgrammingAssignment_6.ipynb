{
 "cells": [
  {
   "cell_type": "code",
   "execution_count": 18,
   "metadata": {},
   "outputs": [],
   "source": [
    "#1\n",
    "\n",
    "def fibonacci(x):\n",
    "    if x<0:\n",
    "        print(\"Incorrect input\")\n",
    "    elif x==0:\n",
    "        return 0\n",
    "    elif x==1 or x==2:\n",
    "        return 1\n",
    "    else:\n",
    "        return fibonacci(x-1)+fibonacci(x-2)"
   ]
  },
  {
   "cell_type": "code",
   "execution_count": 20,
   "metadata": {},
   "outputs": [
    {
     "name": "stdout",
     "output_type": "stream",
     "text": [
      "0\n",
      "1\n",
      "1\n",
      "2\n",
      "3\n",
      "5\n",
      "8\n",
      "13\n",
      "21\n",
      "34\n"
     ]
    }
   ],
   "source": [
    "for i in range(10):\n",
    "    print(fibonacci(i))"
   ]
  },
  {
   "cell_type": "code",
   "execution_count": 21,
   "metadata": {},
   "outputs": [
    {
     "name": "stdout",
     "output_type": "stream",
     "text": [
      "Enter a number :5\n",
      "The value of  5 ! =  120\n"
     ]
    }
   ],
   "source": [
    "#2\n",
    "\n",
    "def factorial(x):\n",
    "    if x<0:\n",
    "        print(\"Please enter a positive number.\")\n",
    "    elif x==0:\n",
    "        return 1\n",
    "    else:\n",
    "        return x*factorial(x-1)\n",
    "\n",
    "a = int(input(\"Enter a number :\"))\n",
    "print(\"The value of \",a,\"! = \",factorial(a))"
   ]
  },
  {
   "cell_type": "code",
   "execution_count": 24,
   "metadata": {},
   "outputs": [
    {
     "name": "stdout",
     "output_type": "stream",
     "text": [
      "Enter your weight in kilograms :80\n",
      "Enter your height in meters :2\n",
      "The BMI = 20.0\n"
     ]
    }
   ],
   "source": [
    "#3\n",
    "\n",
    "weight = float(input(\"Enter your weight in kilograms :\"))\n",
    "height = float(input(\"Enter your height in meters :\"))\n",
    "\n",
    "bmi = weight/(height**2)\n",
    "\n",
    "print(\"The BMI =\",bmi)"
   ]
  },
  {
   "cell_type": "code",
   "execution_count": 25,
   "metadata": {},
   "outputs": [
    {
     "name": "stdout",
     "output_type": "stream",
     "text": [
      "Enter a number :5\n",
      "The natural log of  5 is : 1.6094379124341003\n"
     ]
    }
   ],
   "source": [
    "#4\n",
    "\n",
    "import math\n",
    "a = int(input(\"Enter a number :\"))\n",
    "natural_log = math.log(a)\n",
    "print(\"The natural log of \",a,\"is :\",natural_log)"
   ]
  },
  {
   "cell_type": "code",
   "execution_count": 28,
   "metadata": {},
   "outputs": [
    {
     "name": "stdout",
     "output_type": "stream",
     "text": [
      "Enter the number of natural numbers :4\n",
      "The sum of cubes of first 4 natural numbers =  100\n"
     ]
    }
   ],
   "source": [
    "#5\n",
    "\n",
    "n = int(input(\"Enter the number of natural numbers :\"))\n",
    "s = 0\n",
    "\n",
    "for i in range(1,n+1):\n",
    "    s = s+(i**3)\n",
    "print(\"The sum of cubes of first\",n,\"natural numbers = \",s)"
   ]
  },
  {
   "cell_type": "code",
   "execution_count": null,
   "metadata": {},
   "outputs": [],
   "source": []
  }
 ],
 "metadata": {
  "kernelspec": {
   "display_name": "Python 3",
   "language": "python",
   "name": "python3"
  },
  "language_info": {
   "codemirror_mode": {
    "name": "ipython",
    "version": 3
   },
   "file_extension": ".py",
   "mimetype": "text/x-python",
   "name": "python",
   "nbconvert_exporter": "python",
   "pygments_lexer": "ipython3",
   "version": "3.8.3"
  }
 },
 "nbformat": 4,
 "nbformat_minor": 4
}
