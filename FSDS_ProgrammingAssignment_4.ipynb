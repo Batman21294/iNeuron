{
 "cells": [
  {
   "cell_type": "code",
   "execution_count": 1,
   "metadata": {},
   "outputs": [],
   "source": [
    "#1\n",
    "\n",
    "def fact(n):\n",
    "    if n==0:\n",
    "        return 1\n",
    "    else:\n",
    "        while n>0:\n",
    "            return n*fact(n-1)"
   ]
  },
  {
   "cell_type": "code",
   "execution_count": 6,
   "metadata": {},
   "outputs": [
    {
     "data": {
      "text/plain": [
       "40320"
      ]
     },
     "execution_count": 6,
     "metadata": {},
     "output_type": "execute_result"
    }
   ],
   "source": [
    "fact(8)"
   ]
  },
  {
   "cell_type": "code",
   "execution_count": 7,
   "metadata": {},
   "outputs": [
    {
     "name": "stdout",
     "output_type": "stream",
     "text": [
      "Enter a number :5\n",
      "1  x  5  =  5\n",
      "2  x  5  =  10\n",
      "3  x  5  =  15\n",
      "4  x  5  =  20\n",
      "5  x  5  =  25\n",
      "6  x  5  =  30\n",
      "7  x  5  =  35\n",
      "8  x  5  =  40\n",
      "9  x  5  =  45\n",
      "10  x  5  =  50\n",
      "11  x  5  =  55\n",
      "12  x  5  =  60\n",
      "13  x  5  =  65\n",
      "14  x  5  =  70\n",
      "15  x  5  =  75\n",
      "16  x  5  =  80\n",
      "17  x  5  =  85\n",
      "18  x  5  =  90\n",
      "19  x  5  =  95\n",
      "20  x  5  =  100\n"
     ]
    }
   ],
   "source": [
    "#2\n",
    "\n",
    "num = int(input(\"Enter a number :\"))\n",
    "\n",
    "for i in range(1,21):\n",
    "    print(i,\" x \",num,\" = \",i*num)"
   ]
  },
  {
   "cell_type": "code",
   "execution_count": 8,
   "metadata": {},
   "outputs": [],
   "source": [
    "#3\n",
    "\n",
    "def genfib(n):\n",
    "    a,b = 0,1\n",
    "    for _ in range(n):\n",
    "        yield a\n",
    "        a,b = b, a+b"
   ]
  },
  {
   "cell_type": "code",
   "execution_count": 9,
   "metadata": {},
   "outputs": [
    {
     "data": {
      "text/plain": [
       "[0, 1, 1, 2, 3, 5, 8, 13, 21, 34]"
      ]
     },
     "execution_count": 9,
     "metadata": {},
     "output_type": "execute_result"
    }
   ],
   "source": [
    "list(genfib(10))"
   ]
  },
  {
   "cell_type": "code",
   "execution_count": 15,
   "metadata": {},
   "outputs": [
    {
     "name": "stdout",
     "output_type": "stream",
     "text": [
      "Enter a number : 1\n",
      "1  is an Armstrong number\n"
     ]
    }
   ],
   "source": [
    "#4\n",
    "\n",
    "num = int(input(\"Enter a number : \"))\n",
    "order = int(len(str(num)))\n",
    "\n",
    "s = 0\n",
    "temp = num\n",
    "\n",
    "while temp >0:\n",
    "    n = temp%10\n",
    "    temp = temp//10\n",
    "    s = s+(n**order)\n",
    "if s==num:\n",
    "    print(num,\" is an Armstrong number\")\n",
    "else:\n",
    "    print(num,\" is not an Armstrong number\")"
   ]
  },
  {
   "cell_type": "code",
   "execution_count": 14,
   "metadata": {},
   "outputs": [
    {
     "name": "stdout",
     "output_type": "stream",
     "text": [
      "Enter lower limit :1\n",
      "Enter upper limit :300\n",
      "1\n",
      "2\n",
      "3\n",
      "4\n",
      "5\n",
      "6\n",
      "7\n",
      "8\n",
      "9\n",
      "153\n"
     ]
    }
   ],
   "source": [
    "#5\n",
    "\n",
    "lower = int(input(\"Enter lower limit :\"))\n",
    "upper = int(input(\"Enter upper limit :\"))\n",
    "\n",
    "#num = int(input(\"Enter a number : \"))\n",
    "for num in range(lower,upper+1):\n",
    "    order = int(len(str(num)))\n",
    "\n",
    "    s = 0\n",
    "    temp = num\n",
    "\n",
    "    while temp >0:\n",
    "        n = temp%10\n",
    "        temp = temp//10\n",
    "        s = s+(n**order)\n",
    "    if s==num:\n",
    "        print(num)\n"
   ]
  },
  {
   "cell_type": "code",
   "execution_count": 20,
   "metadata": {},
   "outputs": [
    {
     "name": "stdout",
     "output_type": "stream",
     "text": [
      "Enter the number of natural numbers :10\n",
      "The sum of  10 natural numbers is =  55\n"
     ]
    }
   ],
   "source": [
    "#6\n",
    "\n",
    "num = int(input(\"Enter the number of natural numbers :\"))\n",
    "total = 0\n",
    "\n",
    "for i in range(1,num+1):\n",
    "    total +=i\n",
    "print(\"The sum of \",num,\"natural numbers is = \",total)"
   ]
  },
  {
   "cell_type": "code",
   "execution_count": null,
   "metadata": {},
   "outputs": [],
   "source": []
  }
 ],
 "metadata": {
  "kernelspec": {
   "display_name": "Python 3",
   "language": "python",
   "name": "python3"
  },
  "language_info": {
   "codemirror_mode": {
    "name": "ipython",
    "version": 3
   },
   "file_extension": ".py",
   "mimetype": "text/x-python",
   "name": "python",
   "nbconvert_exporter": "python",
   "pygments_lexer": "ipython3",
   "version": "3.8.3"
  }
 },
 "nbformat": 4,
 "nbformat_minor": 4
}
