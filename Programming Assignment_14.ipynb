{
 "cells": [
  {
   "cell_type": "code",
   "execution_count": 5,
   "metadata": {},
   "outputs": [
    {
     "name": "stdout",
     "output_type": "stream",
     "text": [
      "0\n",
      "7\n",
      "14\n",
      "21\n",
      "28\n",
      "35\n",
      "42\n",
      "49\n"
     ]
    }
   ],
   "source": [
    "#1\n",
    "\n",
    "class Iterator:\n",
    "    def __init__(self,n):\n",
    "        self.n = n\n",
    "    def myiter(self):\n",
    "        for i in range(0,self.n):\n",
    "            if i%7==0:\n",
    "                yield(i)\n",
    "                \n",
    "x = Iterator(50)\n",
    "for i in x.myiter():\n",
    "    print(i)"
   ]
  },
  {
   "cell_type": "code",
   "execution_count": 8,
   "metadata": {},
   "outputs": [],
   "source": [
    "#2\n",
    "\n",
    "class WordFreq:\n",
    "    def __init__(self,sentence):\n",
    "        self.sentence = sentence\n",
    "    def getWordFreq(self):\n",
    "        words = self.sentence.split()\n",
    "        mydict = {}\n",
    "        for word in sorted(words):\n",
    "            if word in mydict:\n",
    "                mydict[word]+=1\n",
    "            else:\n",
    "                mydict[word] = 1\n",
    "        return mydict"
   ]
  },
  {
   "cell_type": "code",
   "execution_count": 11,
   "metadata": {},
   "outputs": [
    {
     "data": {
      "text/plain": [
       "{'2': 2,\n",
       " '3': 1,\n",
       " '3?': 1,\n",
       " 'New': 1,\n",
       " 'Python': 5,\n",
       " 'Read': 1,\n",
       " 'and': 1,\n",
       " 'between': 1,\n",
       " 'choosing': 1,\n",
       " 'or': 2,\n",
       " 'to': 1}"
      ]
     },
     "execution_count": 11,
     "metadata": {},
     "output_type": "execute_result"
    }
   ],
   "source": [
    "obj = WordFreq(\"New to Python or choosing between Python 2 and Python 3? Read Python 2 or Python 3\")\n",
    "obj.getWordFreq()"
   ]
  },
  {
   "cell_type": "code",
   "execution_count": 13,
   "metadata": {},
   "outputs": [
    {
     "name": "stdout",
     "output_type": "stream",
     "text": [
      "Male\n",
      "Female\n"
     ]
    }
   ],
   "source": [
    "#3\n",
    "\n",
    "class Person:\n",
    "    def getGender(self):\n",
    "        print(\"Person class\")\n",
    "class Male(Person):\n",
    "    def getGender(self):\n",
    "        print(\"Male\")\n",
    "class Female(Person):\n",
    "    def getGender(self):\n",
    "        print(\"Female\")\n",
    "        \n",
    "        \n",
    "obj1 = Male()\n",
    "obj1.getGender()\n",
    "\n",
    "obj2 = Female()\n",
    "obj2.getGender()"
   ]
  },
  {
   "cell_type": "code",
   "execution_count": 17,
   "metadata": {},
   "outputs": [
    {
     "name": "stdout",
     "output_type": "stream",
     "text": [
      "I Play Hockey\n",
      "I Play Football\n",
      "I Love Hockey\n",
      "I Love Football\n",
      "You Play Hockey\n",
      "You Play Football\n",
      "You Love Hockey\n",
      "You Love Football\n"
     ]
    }
   ],
   "source": [
    "# 4\n",
    "\n",
    "subjectList = [\"I\",\"You\"]\n",
    "verbList = [\"Play\",\"Love\"]\n",
    "objectList = [\"Hockey\",\"Football\"]\n",
    "\n",
    "for subject in subjectList:\n",
    "    for verb in verbList:\n",
    "        for objects in objectList:\n",
    "            print(subject,verb,objects)"
   ]
  },
  {
   "cell_type": "code",
   "execution_count": 20,
   "metadata": {},
   "outputs": [
    {
     "name": "stdout",
     "output_type": "stream",
     "text": [
      "Compressed string : b'x\\x9c\\xcbH\\xcd\\xc9\\xc9W(\\xcf/\\xcaIQ\\xcc \\x82\\r\\x00\\xbd[\\x11\\xf5'\n",
      "Decompressed string : b'hello world!hello world!hello world!hello world!'\n"
     ]
    }
   ],
   "source": [
    "# 5\n",
    "import zlib\n",
    "s = b'hello world!hello world!hello world!hello world!'\n",
    "t = zlib.compress(s)\n",
    "print(\"Compressed string :\",t)\n",
    "print(\"Decompressed string :\",zlib.decompress(t))"
   ]
  },
  {
   "cell_type": "code",
   "execution_count": 39,
   "metadata": {},
   "outputs": [],
   "source": [
    "# 6\n",
    "\n",
    "def binarySearch(arr,item,low,high):\n",
    "    if high >= low:\n",
    "        mid = low + (high-low)//2\n",
    "        if arr[mid] == item:\n",
    "            return mid\n",
    "\n",
    "        elif item < arr[mid]:\n",
    "            return binarySearch(arr,item,low,mid-1)\n",
    "        elif item > arr[mid]:\n",
    "            return binarySearch(arr,item,mid+1,high)\n",
    "    else:\n",
    "        return -1"
   ]
  },
  {
   "cell_type": "code",
   "execution_count": 44,
   "metadata": {},
   "outputs": [
    {
     "data": {
      "text/plain": [
       "3"
      ]
     },
     "execution_count": 44,
     "metadata": {},
     "output_type": "execute_result"
    }
   ],
   "source": [
    "l = [10,20,30,40,50]\n",
    "x = binarySearch(l,40,0,len(l)-1)\n",
    "x"
   ]
  },
  {
   "cell_type": "code",
   "execution_count": null,
   "metadata": {},
   "outputs": [],
   "source": []
  }
 ],
 "metadata": {
  "kernelspec": {
   "display_name": "Python 3",
   "language": "python",
   "name": "python3"
  },
  "language_info": {
   "codemirror_mode": {
    "name": "ipython",
    "version": 3
   },
   "file_extension": ".py",
   "mimetype": "text/x-python",
   "name": "python",
   "nbconvert_exporter": "python",
   "pygments_lexer": "ipython3",
   "version": "3.8.3"
  }
 },
 "nbformat": 4,
 "nbformat_minor": 4
}
