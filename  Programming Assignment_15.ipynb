{
 "cells": [
  {
   "cell_type": "code",
   "execution_count": 2,
   "metadata": {},
   "outputs": [
    {
     "name": "stdout",
     "output_type": "stream",
     "text": [
      "Enter the value of n 100\n",
      "0,35,70\n"
     ]
    }
   ],
   "source": [
    "# 1\n",
    "\n",
    "def gen5and7(n):\n",
    "    for i in range(n):\n",
    "        if i%5 == 0 and i%7 == 0:\n",
    "            yield(str(i))\n",
    "ls = list(gen5and7(int(input(\"Enter the value of n \"))))\n",
    "print(','.join(ls))"
   ]
  },
  {
   "cell_type": "code",
   "execution_count": 4,
   "metadata": {},
   "outputs": [
    {
     "name": "stdout",
     "output_type": "stream",
     "text": [
      "Enter the value of n10\n",
      "0,2,4,6,8,10\n"
     ]
    }
   ],
   "source": [
    "# 2\n",
    "\n",
    "def evenGen(n):\n",
    "    for i in range(n+1):\n",
    "        if i%2==0:\n",
    "            yield(str(i))\n",
    "\n",
    "evenls = list(evenGen(int(input(\"Enter the value of n\"))))\n",
    "print(','.join(evenls))"
   ]
  },
  {
   "cell_type": "code",
   "execution_count": 6,
   "metadata": {},
   "outputs": [],
   "source": [
    "# 3\n",
    "\n",
    "def fib(n):\n",
    "    if n == 0:\n",
    "        return 0\n",
    "    elif n == 1:\n",
    "        return 1\n",
    "    elif n>1:\n",
    "        return fib(n-1) + fib(n-2)\n"
   ]
  },
  {
   "cell_type": "code",
   "execution_count": 11,
   "metadata": {},
   "outputs": [
    {
     "name": "stdout",
     "output_type": "stream",
     "text": [
      "0,1,1,2,3,5,8\n"
     ]
    }
   ],
   "source": [
    "l = [str(fib(i)) for i in range(7)]\n",
    "print(','.join(l))"
   ]
  },
  {
   "cell_type": "code",
   "execution_count": 12,
   "metadata": {},
   "outputs": [
    {
     "data": {
      "text/plain": [
       "'john'"
      ]
     },
     "execution_count": 12,
     "metadata": {},
     "output_type": "execute_result"
    }
   ],
   "source": [
    "# 4\n",
    "\n",
    "def getUsername(email):\n",
    "    username = email.split('@')[0]\n",
    "    return username\n",
    "\n",
    "user = getUsername('john@google.com')\n",
    "user"
   ]
  },
  {
   "cell_type": "code",
   "execution_count": 13,
   "metadata": {},
   "outputs": [
    {
     "data": {
      "text/plain": [
       "25"
      ]
     },
     "execution_count": 13,
     "metadata": {},
     "output_type": "execute_result"
    }
   ],
   "source": [
    "# 5\n",
    "\n",
    "class Shape:\n",
    "    def area(self):\n",
    "        return 0\n",
    "\n",
    "class Square(Shape):\n",
    "    def __init__(self,length):\n",
    "        self.length = length\n",
    "    def area(self):\n",
    "        return self.length**2\n",
    "    \n",
    "sq = Square(5)\n",
    "sq.area()"
   ]
  },
  {
   "cell_type": "code",
   "execution_count": 16,
   "metadata": {},
   "outputs": [
    {
     "data": {
      "text/plain": [
       "0"
      ]
     },
     "execution_count": 16,
     "metadata": {},
     "output_type": "execute_result"
    }
   ],
   "source": [
    "sh = Shape()\n",
    "sh.area()"
   ]
  },
  {
   "cell_type": "code",
   "execution_count": null,
   "metadata": {},
   "outputs": [],
   "source": []
  }
 ],
 "metadata": {
  "kernelspec": {
   "display_name": "Python 3",
   "language": "python",
   "name": "python3"
  },
  "language_info": {
   "codemirror_mode": {
    "name": "ipython",
    "version": 3
   },
   "file_extension": ".py",
   "mimetype": "text/x-python",
   "name": "python",
   "nbconvert_exporter": "python",
   "pygments_lexer": "ipython3",
   "version": "3.8.3"
  }
 },
 "nbformat": 4,
 "nbformat_minor": 4
}
