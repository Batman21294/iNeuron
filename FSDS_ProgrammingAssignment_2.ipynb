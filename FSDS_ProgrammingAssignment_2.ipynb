{
 "cells": [
  {
   "cell_type": "code",
   "execution_count": 2,
   "metadata": {},
   "outputs": [
    {
     "name": "stdout",
     "output_type": "stream",
     "text": [
      "Enter distance in kilometers : 10\n",
      "The equivalent distance in miles =  6.215040397762586\n"
     ]
    }
   ],
   "source": [
    "#1\n",
    "\n",
    "km = float(input(\"Enter distance in kilometers : \"))\n",
    "print(\"The equivalent distance in miles = \", km/1.609)"
   ]
  },
  {
   "cell_type": "code",
   "execution_count": 4,
   "metadata": {},
   "outputs": [
    {
     "name": "stdout",
     "output_type": "stream",
     "text": [
      "Enter temperature in celsius : 0\n",
      "The equivalent temperature in fahrenheit is :  32.0\n"
     ]
    }
   ],
   "source": [
    "#2\n",
    "\n",
    "c = float(input(\"Enter temperature in celsius : \"))\n",
    "\n",
    "f = 32 + (9*c)/5\n",
    "print(\"The equivalent temperature in fahrenheit is : \",f)"
   ]
  },
  {
   "cell_type": "code",
   "execution_count": 5,
   "metadata": {},
   "outputs": [
    {
     "name": "stdout",
     "output_type": "stream",
     "text": [
      "Enter year: 2021\n",
      "Enter month: 12\n",
      "   December 2021\n",
      "Mo Tu We Th Fr Sa Su\n",
      "       1  2  3  4  5\n",
      " 6  7  8  9 10 11 12\n",
      "13 14 15 16 17 18 19\n",
      "20 21 22 23 24 25 26\n",
      "27 28 29 30 31\n",
      "\n"
     ]
    }
   ],
   "source": [
    "#3\n",
    "\n",
    "import calendar\n",
    "\n",
    "year = int(input(\"Enter year: \"))\n",
    "month = int(input(\"Enter month: \"))\n",
    "\n",
    "print(calendar.month(year, month))"
   ]
  },
  {
   "cell_type": "code",
   "execution_count": 10,
   "metadata": {},
   "outputs": [
    {
     "name": "stdout",
     "output_type": "stream",
     "text": [
      "Enter the values of a, b and c in the quadratic equation : aX^2 + bX + c = 0\n",
      "Enter value of a : 1\n",
      "Enter value of b : 1\n",
      "Enter value of c : 1\n",
      "The roots of the quadratic equation are : +- (-0.49999999999999994+0.8660254037844386j)  and  (-0.5-0.8660254037844386j)\n"
     ]
    }
   ],
   "source": [
    "#4\n",
    "\n",
    "print(\"Enter the values of a, b and c in the quadratic equation : aX^2 + bX + c = 0\")\n",
    "a = int(input(\"Enter value of a : \"))\n",
    "b = int(input(\"Enter value of b : \"))\n",
    "c = int(input(\"Enter value of c : \"))\n",
    "\n",
    "d = ((b**2) - (4*a*c))\n",
    "x1 = (-1*b + (d**0.5))/(2*a)\n",
    "x2 = (-1*b - (d**0.5))/(2*a)\n",
    "\n",
    "print(\"The roots of the quadratic equation are : +-\",x1, \" and \", x2)"
   ]
  },
  {
   "cell_type": "code",
   "execution_count": 13,
   "metadata": {},
   "outputs": [
    {
     "name": "stdout",
     "output_type": "stream",
     "text": [
      "Enter the value of a : 2\n",
      "Enter the value of b : 3\n",
      "a =  3\n",
      "b =  2\n"
     ]
    }
   ],
   "source": [
    "#5\n",
    "\n",
    "a = input(\"Enter the value of a : \")\n",
    "b = input(\"Enter the value of b : \")\n",
    "\n",
    "a,b = b,a\n",
    "\n",
    "print(\"a = \",a)\n",
    "print(\"b = \",b)"
   ]
  },
  {
   "cell_type": "code",
   "execution_count": null,
   "metadata": {},
   "outputs": [],
   "source": []
  }
 ],
 "metadata": {
  "kernelspec": {
   "display_name": "Python 3",
   "language": "python",
   "name": "python3"
  },
  "language_info": {
   "codemirror_mode": {
    "name": "ipython",
    "version": 3
   },
   "file_extension": ".py",
   "mimetype": "text/x-python",
   "name": "python",
   "nbconvert_exporter": "python",
   "pygments_lexer": "ipython3",
   "version": "3.8.3"
  }
 },
 "nbformat": 4,
 "nbformat_minor": 4
}
