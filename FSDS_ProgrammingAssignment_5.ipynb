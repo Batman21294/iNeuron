{
 "cells": [
  {
   "cell_type": "code",
   "execution_count": 1,
   "metadata": {},
   "outputs": [
    {
     "name": "stdout",
     "output_type": "stream",
     "text": [
      "Enter the first number :54\n",
      "Enter the second number :24\n",
      "The hcf of 54 and 24 is : 6\n",
      "The lcm of 54 and 24 is : 216\n"
     ]
    }
   ],
   "source": [
    "#1 and 2\n",
    "\n",
    "def get_hcf(x,y):\n",
    "    while(y):\n",
    "        x,y = y,x%y\n",
    "    return x\n",
    "\n",
    "def get_lcm(x,y):\n",
    "    lcm = (x*y)//get_hcf(x,y)\n",
    "    return lcm\n",
    "\n",
    "a = int(input(\"Enter the first number :\"))\n",
    "b = int(input(\"Enter the second number :\"))\n",
    "\n",
    "print(f\"The hcf of {a} and {b} is :\",get_hcf(a,b))\n",
    "print(f\"The lcm of {a} and {b} is :\",get_lcm(a,b))"
   ]
  },
  {
   "cell_type": "code",
   "execution_count": 2,
   "metadata": {},
   "outputs": [
    {
     "name": "stdout",
     "output_type": "stream",
     "text": [
      "Enter the number in decimal :15\n",
      "Equivalent in binary is : 0b1111\n",
      "Equivalent in octal is : 0o17\n",
      "Equivalent in hexadecimal is : 0xf\n"
     ]
    }
   ],
   "source": [
    "#3\n",
    "\n",
    "a = int(input(\"Enter the number in decimal :\"))\n",
    "\n",
    "print(\"Equivalent in binary is :\",bin(a))\n",
    "print(\"Equivalent in octal is :\",oct(a))\n",
    "print(\"Equivalent in hexadecimal is :\",hex(a))"
   ]
  },
  {
   "cell_type": "code",
   "execution_count": 3,
   "metadata": {},
   "outputs": [
    {
     "name": "stdout",
     "output_type": "stream",
     "text": [
      "Enter the character :A\n",
      "The ASCII value of  A  is : 65\n"
     ]
    }
   ],
   "source": [
    "#4\n",
    "\n",
    "a = input(\"Enter the character :\")\n",
    "print(\"The ASCII value of \",a,\" is :\",ord(a))"
   ]
  },
  {
   "cell_type": "code",
   "execution_count": 7,
   "metadata": {},
   "outputs": [
    {
     "name": "stdout",
     "output_type": "stream",
     "text": [
      "Enter first number5\n",
      "Enter second number6\n"
     ]
    },
    {
     "data": {
      "text/plain": [
       "0.8333333333333334"
      ]
     },
     "execution_count": 7,
     "metadata": {},
     "output_type": "execute_result"
    }
   ],
   "source": [
    "#5\n",
    "\n",
    "def add(x,y):\n",
    "    return x+y\n",
    "def sub(x,y):\n",
    "    return x-y\n",
    "def mul(x,y):\n",
    "    return x*y\n",
    "def div(x,y):\n",
    "    try:\n",
    "        return x/y\n",
    "    except:\n",
    "        print(\"Can't divide by zero.\")\n",
    "        \n",
    "a,b = int(input(\"Enter first number\")),int(input(\"Enter second number\"))\n",
    "div(a,b)"
   ]
  },
  {
   "cell_type": "code",
   "execution_count": null,
   "metadata": {},
   "outputs": [],
   "source": []
  }
 ],
 "metadata": {
  "kernelspec": {
   "display_name": "Python 3",
   "language": "python",
   "name": "python3"
  },
  "language_info": {
   "codemirror_mode": {
    "name": "ipython",
    "version": 3
   },
   "file_extension": ".py",
   "mimetype": "text/x-python",
   "name": "python",
   "nbconvert_exporter": "python",
   "pygments_lexer": "ipython3",
   "version": "3.8.3"
  }
 },
 "nbformat": 4,
 "nbformat_minor": 4
}
