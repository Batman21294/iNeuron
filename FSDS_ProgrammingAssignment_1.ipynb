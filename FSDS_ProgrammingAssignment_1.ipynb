{
 "cells": [
  {
   "cell_type": "code",
   "execution_count": 1,
   "metadata": {},
   "outputs": [
    {
     "name": "stdout",
     "output_type": "stream",
     "text": [
      "Hello World\n"
     ]
    }
   ],
   "source": [
    "#1\n",
    "print(\"Hello World\")"
   ]
  },
  {
   "cell_type": "code",
   "execution_count": 7,
   "metadata": {},
   "outputs": [
    {
     "data": {
      "text/plain": [
       "8"
      ]
     },
     "execution_count": 7,
     "metadata": {},
     "output_type": "execute_result"
    }
   ],
   "source": [
    "#2\n",
    "def add(a,b):\n",
    "    return a+b\n",
    "def div(a,b):\n",
    "    if b==0:\n",
    "        print(\"Cannot divide by zero\")\n",
    "    else:\n",
    "        return a/b\n",
    "\n",
    "add(5,3)\n"
   ]
  },
  {
   "cell_type": "code",
   "execution_count": 6,
   "metadata": {},
   "outputs": [
    {
     "name": "stdout",
     "output_type": "stream",
     "text": [
      "Cannot divide by zero\n"
     ]
    }
   ],
   "source": [
    "div(5,0)"
   ]
  },
  {
   "cell_type": "code",
   "execution_count": 9,
   "metadata": {},
   "outputs": [
    {
     "name": "stdout",
     "output_type": "stream",
     "text": [
      "Enter the base 5\n",
      "Enter the height 2\n",
      "The area of the triangle is :  5.0\n"
     ]
    }
   ],
   "source": [
    "#3\n",
    "\n",
    "def area(base,height):\n",
    "    return 0.5*base*height\n",
    "\n",
    "b = float(input(\"Enter the base \"))\n",
    "h = float(input(\"Enter the height \"))\n",
    "\n",
    "print(\"The area of the triangle is : \", area(b,h))"
   ]
  },
  {
   "cell_type": "code",
   "execution_count": 11,
   "metadata": {},
   "outputs": [
    {
     "name": "stdout",
     "output_type": "stream",
     "text": [
      "Enter the value of a 2\n",
      "Enter the value of b 3\n",
      "The value of a is :  3\n",
      "The value of b is :  2\n"
     ]
    }
   ],
   "source": [
    "#4\n",
    "\n",
    "a = int(input(\"Enter the value of a \"))\n",
    "b = int(input(\"Enter the value of b \"))\n",
    "\n",
    "a,b = b,a\n",
    "\n",
    "print(\"The value of a is : \",a)\n",
    "print(\"The value of b is : \",b)"
   ]
  },
  {
   "cell_type": "code",
   "execution_count": 13,
   "metadata": {},
   "outputs": [
    {
     "name": "stdout",
     "output_type": "stream",
     "text": [
      "7\n"
     ]
    }
   ],
   "source": [
    "#5\n",
    "\n",
    "import random\n",
    "\n",
    "print(random.randint(0,9))"
   ]
  },
  {
   "cell_type": "code",
   "execution_count": null,
   "metadata": {},
   "outputs": [],
   "source": []
  }
 ],
 "metadata": {
  "kernelspec": {
   "display_name": "Python 3",
   "language": "python",
   "name": "python3"
  },
  "language_info": {
   "codemirror_mode": {
    "name": "ipython",
    "version": 3
   },
   "file_extension": ".py",
   "mimetype": "text/x-python",
   "name": "python",
   "nbconvert_exporter": "python",
   "pygments_lexer": "ipython3",
   "version": "3.8.3"
  }
 },
 "nbformat": 4,
 "nbformat_minor": 4
}
